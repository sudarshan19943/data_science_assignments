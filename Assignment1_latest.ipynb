{
 "cells": [
  {
   "cell_type": "code",
   "execution_count": null,
   "metadata": {},
   "outputs": [],
   "source": [
    "import numpy as np\n",
    "import pandas as pd\n",
    "from sklearn.metrics import r2_score\n",
    "from sklearn.metrics import mean_squared_error\n",
    "from sklearn import preprocessing as sk\n",
    "from sklearn.model_selection import cross_val_score\n",
    "from sklearn.preprocessing import MultiLabelBinarizer\n",
    "from sklearn.model_selection import GridSearchCV\n",
    "from sklearn.svm import SVR\n",
    "from sklearn.linear_model import LinearRegression\n",
    "from sklearn.neural_network import MLPRegressor\n",
    "from sklearn.pipeline import make_pipeline\n",
    "from sklearn.model_selection import train_test_split\n",
    "from sklearn.ensemble import RandomForestRegressor\n",
    "import matplotlib.pyplot as plt\n",
    "import seaborn as sns\n",
    "import re\n",
    "from datetime import datetime\n",
    "\n",
    "# Hide all warnings\n",
    "import warnings\n",
    "warnings.filterwarnings('ignore')"
   ]
  },
  {
   "cell_type": "code",
   "execution_count": 2,
   "metadata": {},
   "outputs": [],
   "source": [
    "def clean_rate(dataframe):\n",
    "    dataframe = re.sub('/5', '',str(dataframe)) #Replacing all ratings to a single value\n",
    "    dataframe = re.sub('-', 'nan', str(dataframe)) #Replacing all values containing '-' with 0 rating since the number of votes are also 0\n",
    "    dataframe = re.sub('NEW', 'nan', str(dataframe)) #Replacing all values containing 'NEW' with 0 rating since the number of votes are also 0 and the restaurant is new\n",
    "    return float(dataframe)"
   ]
  },
  {
   "cell_type": "code",
   "execution_count": 3,
   "metadata": {},
   "outputs": [],
   "source": [
    "def clean_approx_cost(dataframe):\n",
    "    dataframe = re.sub(',','', str(dataframe))\n",
    "    return dataframe"
   ]
  },
  {
   "cell_type": "code",
   "execution_count": 4,
   "metadata": {},
   "outputs": [],
   "source": [
    "def scale_to_zero_mean_and_unit_variance(column):\n",
    "    scaled_data = np.array(sk.scale(column))\n",
    "    scaled_data = np.reshape(scaled_data,(scaled_data.shape[0],1))\n",
    "    return scaled_data"
   ]
  },
  {
   "cell_type": "code",
   "execution_count": 5,
   "metadata": {},
   "outputs": [],
   "source": [
    "def one_hot_encoding_of_column(column):\n",
    "    # First, use LabelEncoder to convert Strings to numeric values as OHE does not accept Strings\n",
    "    lab_enc = sk.LabelEncoder()\n",
    "    lab_enc.fit(column)\n",
    "    label_encoded = lab_enc.transform(column)\n",
    "    \n",
    "    # Reshape the label_encoded array into a Nx1 matrix as OHE requires a 2-D matrix as input\n",
    "    label_encoded = np.reshape(label_encoded, (label_encoded.shape[0],1))\n",
    "    \n",
    "    # Perform One-Hot-Encoding\n",
    "    OHE_encoder = sk.OneHotEncoder(sparse=False)\n",
    "    OHE_encoder.fit(label_encoded)\n",
    "    OHE_result = OHE_encoder.transform(label_encoded)\n",
    "\n",
    "    return OHE_result"
   ]
  },
  {
   "cell_type": "code",
   "execution_count": 6,
   "metadata": {},
   "outputs": [],
   "source": [
    "def multi_label_binarize_column(column):\n",
    "    mlb = MultiLabelBinarizer()\n",
    "    mlb_binarized = mlb.fit_transform(column)\n",
    "    return mlb_binarized"
   ]
  },
  {
   "cell_type": "code",
   "execution_count": 7,
   "metadata": {},
   "outputs": [],
   "source": [
    "def preprocess_data(data):\n",
    "\n",
    "    # Scale the rate column\n",
    "    clean_data = scale_to_zero_mean_and_unit_variance(data[:,0])\n",
    "    \n",
    "    # One-hot-encode the location column\n",
    "    location_column_clean = one_hot_encoding_of_column(data[:,1])\n",
    "    clean_data = np.append(clean_data, location_column_clean, axis=1)\n",
    "    \n",
    "    # Encode rest-type column using multi label binarizer\n",
    "    rest_type_column_clean = multi_label_binarize_column(data[:,2])\n",
    "    clean_data = np.append(clean_data, rest_type_column_clean, axis=1)\n",
    "    \n",
    "    # Encode cuisines column using multi label binarizer\n",
    "    cuisines_column_clean = multi_label_binarize_column(data[:,3])\n",
    "    clean_data = np.append(clean_data, cuisines_column_clean, axis=1)   \n",
    "    \n",
    "    return clean_data"
   ]
  },
  {
   "cell_type": "code",
   "execution_count": 8,
   "metadata": {},
   "outputs": [],
   "source": [
    "def preprocess_relief_data(data):\n",
    "\n",
    "    # Scale the rate column\n",
    "    clean_data = one_hot_encoding_of_column(data[:,0])\n",
    "    \n",
    "    # One-hot-encode the location column\n",
    "    online_order_column_clean = one_hot_encoding_of_column(data[:,1])\n",
    "    clean_data = np.append(clean_data, online_order_column_clean, axis=1)\n",
    "    \n",
    "    # One-hot-encode the location column\n",
    "    book_table_column_clean = one_hot_encoding_of_column(data[:,2])\n",
    "    clean_data = np.append(clean_data, book_table_column_clean, axis=1)\n",
    "    \n",
    "    rate_column_clean = scale_to_zero_mean_and_unit_variance(data[:,3])\n",
    "    clean_data = np.append(clean_data, rate_column_clean, axis=1)\n",
    "    \n",
    "    votes_column_clean = scale_to_zero_mean_and_unit_variance(data[:,4])\n",
    "    clean_data = np.append(clean_data, votes_column_clean, axis=1)\n",
    "    \n",
    "    location_column_clean = one_hot_encoding_of_column(data[:,5])\n",
    "    clean_data = np.append(clean_data, location_column_clean, axis=1)\n",
    "    \n",
    "    rest_type_column_clean = multi_label_binarize_column(data[:,6])\n",
    "    clean_data = np.append(clean_data, rest_type_column_clean, axis=1)\n",
    "    \n",
    "    cuisines_column_clean = multi_label_binarize_column(data[:,7])\n",
    "    clean_data = np.append(clean_data, cuisines_column_clean, axis=1)\n",
    "    \n",
    "    # Encode rest-type column using multi label binarizer\n",
    "    listed_in_type_column_clean = one_hot_encoding_of_column(data[:,8])\n",
    "    clean_data = np.append(clean_data, listed_in_type_column_clean, axis=1)\n",
    "    \n",
    "    # Encode cuisines column using multi label binarizer\n",
    "    listed_in_city_column_clean = one_hot_encoding_of_column(data[:,9])\n",
    "    clean_data = np.append(clean_data, listed_in_city_column_clean, axis=1)  \n",
    "    \n",
    "    return clean_data"
   ]
  },
  {
   "cell_type": "markdown",
   "metadata": {},
   "source": [
    "## 1. Introduction\n",
    "\n",
    "a."
   ]
  },
  {
   "cell_type": "markdown",
   "metadata": {},
   "source": [
    "## 2. Data pre-processing"
   ]
  },
  {
   "cell_type": "code",
   "execution_count": 9,
   "metadata": {},
   "outputs": [
    {
     "name": "stdout",
     "output_type": "stream",
     "text": [
      "(51717, 17)\n",
      "(51717, 10)\n",
      "Index(['address', 'name', 'online_order', 'book_table', 'rate', 'location',\n",
      "       'rest_type', 'cuisines', 'approx_cost(for two people)',\n",
      "       'listed_in(type)'],\n",
      "      dtype='object')\n",
      "(51717, 17)\n",
      "Index(['url', 'address', 'name', 'online_order', 'book_table', 'rate', 'votes',\n",
      "       'phone', 'location', 'rest_type', 'dish_liked', 'cuisines',\n",
      "       'approx_cost(for two people)', 'reviews_list', 'menu_item',\n",
      "       'listed_in(type)', 'listed_in(city)'],\n",
      "      dtype='object')\n"
     ]
    }
   ],
   "source": [
    "# Load the data\n",
    "df = pd.read_csv('zomato.csv', encoding='utf-8')\n",
    "print(df.shape)\n",
    "# Use original_df for relief without dropping any column\n",
    "original_df = df\n",
    "# Use df to consider only the four attributes listed in Question 3\n",
    "df = df.drop(columns=['url','phone','reviews_list','menu_item','listed_in(city)', 'dish_liked', 'votes'])\n",
    "print(df.shape)\n",
    "print(df.columns)\n",
    "print(original_df.shape)\n",
    "print(original_df.columns)\n",
    "\n",
    "df.to_csv('out.csv', encoding='utf-8', index=False)"
   ]
  },
  {
   "cell_type": "code",
   "execution_count": 10,
   "metadata": {},
   "outputs": [
    {
     "name": "stdout",
     "output_type": "stream",
     "text": [
      "(12382, 10)\n"
     ]
    }
   ],
   "source": [
    "df['rate'] = df['rate'].apply(clean_rate)\n",
    "df['rate'] = df['rate'].fillna(df['rate'].mean())\n",
    "df.dropna(subset=['location','rest_type','cuisines','approx_cost(for two people)'], inplace=True)\n",
    "df['approx_cost(for two people)'] = df['approx_cost(for two people)'].apply(clean_approx_cost)\n",
    "df = df.drop_duplicates(subset=['name','address'], keep='first')\n",
    "print(df.shape)"
   ]
  },
  {
   "cell_type": "code",
   "execution_count": 11,
   "metadata": {},
   "outputs": [
    {
     "data": {
      "text/plain": [
       "dtype('float64')"
      ]
     },
     "execution_count": 11,
     "metadata": {},
     "output_type": "execute_result"
    }
   ],
   "source": [
    "df.rate.dtype"
   ]
  },
  {
   "cell_type": "code",
   "execution_count": 12,
   "metadata": {},
   "outputs": [
    {
     "name": "stdout",
     "output_type": "stream",
     "text": [
      "(12382, 17)\n"
     ]
    }
   ],
   "source": [
    "original_df['rate'] = original_df['rate'].apply(clean_rate)\n",
    "original_df['rate'] = original_df['rate'].fillna(original_df['rate'].mean())\n",
    "original_df.dropna(subset=['location', 'cuisines','rest_type','approx_cost(for two people)'], inplace=True)\n",
    "original_df['approx_cost(for two people)'] = original_df['approx_cost(for two people)'].apply(clean_approx_cost)\n",
    "original_df = original_df.drop_duplicates(subset=['name','address'], keep='first')\n",
    "print(original_df.shape)"
   ]
  },
  {
   "cell_type": "code",
   "execution_count": 13,
   "metadata": {},
   "outputs": [
    {
     "data": {
      "text/plain": [
       "['address',\n",
       " 'name',\n",
       " 'online_order',\n",
       " 'book_table',\n",
       " 'rate',\n",
       " 'location',\n",
       " 'rest_type',\n",
       " 'cuisines',\n",
       " 'approx_cost(for two people)',\n",
       " 'listed_in(type)']"
      ]
     },
     "execution_count": 13,
     "metadata": {},
     "output_type": "execute_result"
    }
   ],
   "source": [
    "list(df.columns)"
   ]
  },
  {
   "cell_type": "code",
   "execution_count": 14,
   "metadata": {},
   "outputs": [
    {
     "name": "stdout",
     "output_type": "stream",
     "text": [
      "Lavelle Road\n",
      "Max average rating for 'Lavelle Road':4.046460629853767\n"
     ]
    }
   ],
   "source": [
    "df_grouped_locations2=df.groupby(['location'], as_index=False)['rate'].mean()\n",
    "# Get the location with the maximum rating\n",
    "print(df_grouped_locations2.loc[df_grouped_locations2['rate'] == max(df_grouped_locations2['rate']), 'location'].iloc[0])\n",
    "print(f\"Max average rating for 'Lavelle Road':{max(df_grouped_locations2['rate'])}\")\n"
   ]
  },
  {
   "cell_type": "code",
   "execution_count": 15,
   "metadata": {},
   "outputs": [],
   "source": [
    "df_labels = df.drop(columns=['name','online_order','book_table','address','rate', 'location','rest_type','cuisines','listed_in(type)'])\n",
    "df_data = df.drop(columns=['approx_cost(for two people)','online_order','address','book_table','listed_in(type)','name'])\n",
    "df_data.to_csv('after_cleaning_rate.csv', encoding='utf-8', index=False)\n",
    "data_raw = df_data.as_matrix()\n",
    "labels_raw = df_labels.as_matrix()"
   ]
  },
  {
   "cell_type": "code",
   "execution_count": 16,
   "metadata": {},
   "outputs": [
    {
     "data": {
      "text/plain": [
       "rate         0\n",
       "location     0\n",
       "rest_type    0\n",
       "cuisines     0\n",
       "dtype: int64"
      ]
     },
     "execution_count": 16,
     "metadata": {},
     "output_type": "execute_result"
    }
   ],
   "source": [
    "\n",
    "df_data.isna().sum()"
   ]
  },
  {
   "cell_type": "code",
   "execution_count": 17,
   "metadata": {},
   "outputs": [],
   "source": [
    "original_df_labels = original_df.drop(columns=['url','votes','phone','dish_liked','address','reviews_list','menu_item','listed_in(city)','name','online_order','book_table','rate', 'location','rest_type','cuisines','listed_in(type)'])\n",
    "original_df_data = original_df.drop(columns=['url','phone','approx_cost(for two people)','address','reviews_list','menu_item','dish_liked'])\n",
    "original_df_data.to_csv('original_out.csv', encoding='utf-8', index=False)\n",
    "original_data = original_df_data.as_matrix()\n",
    "original_labels = original_df_labels.as_matrix()"
   ]
  },
  {
   "cell_type": "code",
   "execution_count": 18,
   "metadata": {},
   "outputs": [],
   "source": [
    "data = preprocess_data(data_raw)\n",
    "original_data = preprocess_relief_data(original_data)"
   ]
  },
  {
   "cell_type": "code",
   "execution_count": 19,
   "metadata": {},
   "outputs": [
    {
     "name": "stdout",
     "output_type": "stream",
     "text": [
      "(12382, 181)\n",
      "(12382, 1)\n",
      "(12382, 8946)\n",
      "(12382, 1)\n"
     ]
    }
   ],
   "source": [
    "print(data.shape)\n",
    "print(labels_raw.shape)\n",
    "print(original_data.shape)\n",
    "print(original_labels.shape)"
   ]
  },
  {
   "cell_type": "code",
   "execution_count": 20,
   "metadata": {},
   "outputs": [
    {
     "name": "stdout",
     "output_type": "stream",
     "text": [
      "[]\n"
     ]
    }
   ],
   "source": [
    "labels_raw = labels_raw.astype(float)\n",
    "\n",
    "val = np.isnan(labels_raw)\n",
    "nullss = []\n",
    "for i in range(len(val)):\n",
    "    if val[i] == True:\n",
    "        nullss.append(i)\n",
    "print(nullss)"
   ]
  },
  {
   "cell_type": "code",
   "execution_count": null,
   "metadata": {},
   "outputs": [],
   "source": [
    "svr_reg_cv = SVR()\n",
    "\n",
    "svr_reg_cv_scores = cross_val_score(svr_reg_cv, data, labels_raw, cv=8)\n",
    "print(\"Accuracy: %0.2f (+/- %0.2f)\" % (svr_reg_cv_scores.mean(), svr_reg_cv_scores.std() * 2))"
   ]
  },
  {
   "cell_type": "code",
   "execution_count": null,
   "metadata": {},
   "outputs": [],
   "source": [
    "mlp_reg_cv = MLPRegressor()\n",
    "mlp_reg_cv_scores = cross_val_score(mlp_reg_cv, data, labels_raw, cv=8)\n",
    "print(\"Accuracy: %0.2f (+/- %0.2f)\" % (mlp_reg_cv_scores.mean(), mlp_reg_cv_scores.std() * 2))"
   ]
  },
  {
   "cell_type": "code",
   "execution_count": null,
   "metadata": {},
   "outputs": [],
   "source": [
    "rf_reg_cv = RandomForestRegressor()\n",
    "rf_reg_cv_scores = cross_val_score(rf_reg_cv, data, labels_raw, cv=8)\n",
    "print(\"Accuracy: %0.2f (+/- %0.2f)\" % (rf_reg_cv_scores.mean(), rf_reg_cv_scores.std() * 2))"
   ]
  },
  {
   "cell_type": "code",
   "execution_count": null,
   "metadata": {},
   "outputs": [],
   "source": [
    "# Split the train data into train and validation \n",
    "X_train, X_validation, y_train, y_validation = train_test_split(data, labels_raw, test_size=0.10, random_state=42)\n",
    "print(f\"Dimensions of training data: {X_train.shape}\")\n",
    "print(f\"Dimensions of validation data: {X_validation.shape}\")"
   ]
  },
  {
   "cell_type": "code",
   "execution_count": null,
   "metadata": {},
   "outputs": [],
   "source": [
    "rf_reg_train = RandomForestRegressor().fit(X_train,y_train)\n",
    "rf_reg_pred = rf_reg_train.predict(X_train)\n",
    "mean_squared_error(y_train,rf_reg_pred)"
   ]
  },
  {
   "cell_type": "code",
   "execution_count": null,
   "metadata": {},
   "outputs": [],
   "source": [
    "for i in range(20):\n",
    "    print(f\"Pred: {rf_reg_pred[i]}  Actual: {y_train[i]}\")"
   ]
  },
  {
   "cell_type": "code",
   "execution_count": null,
   "metadata": {},
   "outputs": [],
   "source": [
    "rf_reg_val = RandomForestRegressor().fit(X_train,y_train)\n",
    "rf_reg_pred = rf_reg_val.predict(X_validation)\n",
    "mean_squared_error(y_validation,rf_reg_pred)"
   ]
  },
  {
   "cell_type": "code",
   "execution_count": null,
   "metadata": {},
   "outputs": [],
   "source": [
    "rf_reg_pred = np.reshape(rf_reg_pred, (rf_reg_pred.shape[0],1))\n",
    "for i in range(20):\n",
    "    print(f\"Pred: {rf_reg_pred[i]}  Actual: {y_validation[i]}\")"
   ]
  },
  {
   "cell_type": "code",
   "execution_count": 39,
   "metadata": {},
   "outputs": [
    {
     "data": {
      "image/png": "[encoded data removed]",
      "text/plain": [
       "<Figure size 432x288 with 1 Axes>"
      ]
     },
     "metadata": {
      "needs_background": "light"
     },
     "output_type": "display_data"
    }
   ],
   "source": [
    "plt.plot(train_scores, 'r')\n",
    "plt.plot(val_scores, 'c')\n",
    "plt.show()"
   ]
  },
  {
   "cell_type": "markdown",
   "metadata": {},
   "source": [
    "## Use GridSearchCV to tune hyperparameter set on SVR"
   ]
  },
  {
   "cell_type": "code",
   "execution_count": null,
   "metadata": {},
   "outputs": [],
   "source": [
    "print(f\"Start time: {datetime.now()}\")\n",
    "svr_parameters = {'kernel':['rbf','linear'],'C':[0.1,1,10],'tol':[1e-2, 1e-3, 1e-4]}\n",
    "svr_grid_search = GridSearchCV(SVR(),svr_parameters, cv=5)\n",
    "svr_grid_search_result = svr_grid_search.fit(data,labels_raw)\n",
    "print(f\"Best parameters for SVR: {svr_grid_search_result.best_params_}\")\n",
    "print(f\"End time: {datetime.now()}\")"
   ]
  },
  {
   "cell_type": "code",
   "execution_count": null,
   "metadata": {},
   "outputs": [],
   "source": [
    "svr_reg_cv = SVR(C=10, gamma=0.001, kernel='linear', max_iter=15, tol=0.001)\n",
    "svr_reg_cv_scores = cross_val_score(svr_reg_cv, data, labels_raw, cv=8)\n",
    "svr_reg_cv_scores"
   ]
  },
  {
   "cell_type": "code",
   "execution_count": null,
   "metadata": {},
   "outputs": [],
   "source": [
    "import sys\n",
    "!{sys.executable} -m pip install skrebate\n",
    "from skrebate import ReliefF\n",
    "print(f\"Start time: {datetime.now()}\")\n",
    "# Using ReliefF to rank features by importance\n",
    "reg = make_pipeline(ReliefF(n_features_to_select=4, n_neighbors=100),\n",
    "                    SVR())\n",
    "\n",
    "print(np.mean(cross_val_score(reg, original_data[:500,:], original_labels[:500,0])))\n",
    "print(f\"End time: {datetime.now()}\")"
   ]
  },
  {
   "cell_type": "code",
   "execution_count": null,
   "metadata": {},
   "outputs": [],
   "source": [
    "original_data[:5000,:].shape"
   ]
  },
  {
   "cell_type": "code",
   "execution_count": null,
   "metadata": {},
   "outputs": [],
   "source": []
  }
 ],
 "metadata": {
  "kernelspec": {
   "display_name": "Python 3",
   "language": "python",
   "name": "python3"
  },
  "language_info": {
   "codemirror_mode": {
    "name": "ipython",
    "version": 3
   },
   "file_extension": ".py",
   "mimetype": "text/x-python",
   "name": "python",
   "nbconvert_exporter": "python",
   "pygments_lexer": "ipython3",
   "version": "3.7.3"
  }
 },
 "nbformat": 4,
 "nbformat_minor": 2
}
