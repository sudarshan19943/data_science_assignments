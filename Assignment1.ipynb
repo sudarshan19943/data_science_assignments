{
 "cells": [
  {
   "cell_type": "code",
   "execution_count": 1,
   "metadata": {},
   "outputs": [],
   "source": [
    "import numpy as np\n",
    "import pandas as pd\n",
    "from sklearn import preprocessing as sk\n",
    "from sklearn.model_selection import cross_val_score\n",
    "from sklearn.preprocessing import MultiLabelBinarizer\n",
    "from sklearn.svm import SVR\n",
    "from sklearn.neural_network import MLPRegressor\n",
    "from sklearn.model_selection import train_test_split\n",
    "import matplotlib.pyplot as plt\n",
    "import seaborn as sns\n",
    "import re\n",
    "\n",
    "# Hide all warnings\n",
    "import warnings\n",
    "warnings.filterwarnings('ignore')"
   ]
  },
  {
   "cell_type": "code",
   "execution_count": 2,
   "metadata": {},
   "outputs": [],
   "source": [
    "def clean_rate(dataframe):\n",
    "    dataframe = re.sub('/5', '',str(dataframe)) #Replacing all ratings to a single value\n",
    "    dataframe = re.sub('-', '0', str(dataframe)) #Replacing all values containing '-' with 0 rating since the number of votes are also 0\n",
    "    dataframe = re.sub('NEW', '0', str(dataframe)) #Replacing all values containing 'NEW' with 0 rating since the number of votes are also 0 and the restaurant is new\n",
    "    dataframe = re.sub('nan', '0', str(dataframe)) #Replacing all values containing 'nan' with 0 rating\n",
    "    return float(dataframe)"
   ]
  },
  {
   "cell_type": "code",
   "execution_count": 3,
   "metadata": {},
   "outputs": [],
   "source": [
    "def clean_approx_cost(dataframe):\n",
    "     dataframe = re.sub(',','', str(dataframe))\n",
    "     return int(dataframe)"
   ]
  },
  {
   "cell_type": "code",
   "execution_count": 4,
   "metadata": {},
   "outputs": [],
   "source": [
    "def scale_to_zero_mean_and_unit_variance(column):\n",
    "    scaled_data = np.array(sk.scale(column))\n",
    "    scaled_data = np.reshape(scaled_data,(scaled_data.shape[0],1))\n",
    "    return scaled_data"
   ]
  },
  {
   "cell_type": "code",
   "execution_count": 5,
   "metadata": {},
   "outputs": [],
   "source": [
    "def one_hot_encoding_of_column(column):\n",
    "    # First, use LabelEncoder to convert Strings to numeric values as OHE does not accept Strings\n",
    "    lab_enc = sk.LabelEncoder()\n",
    "    lab_enc.fit(column)\n",
    "    label_encoded = lab_enc.transform(column)\n",
    "    \n",
    "    # Reshape the label_encoded array into a Nx1 matrix as OHE requires a 2-D matrix as input\n",
    "    label_encoded = np.reshape(label_encoded, (label_encoded.shape[0],1))\n",
    "    \n",
    "    # Perform One-Hot-Encoding\n",
    "    OHE_encoder = sk.OneHotEncoder(sparse=False)\n",
    "    OHE_encoder.fit(label_encoded)\n",
    "    OHE_result = OHE_encoder.transform(label_encoded)\n",
    "\n",
    "    return OHE_result"
   ]
  },
  {
   "cell_type": "code",
   "execution_count": 6,
   "metadata": {},
   "outputs": [],
   "source": [
    "def multi_label_binarize_column(column):\n",
    "    mlb = MultiLabelBinarizer()\n",
    "    mlb_binarized = mlb.fit_transform(column)\n",
    "    return mlb_binarized"
   ]
  },
  {
   "cell_type": "code",
   "execution_count": 7,
   "metadata": {},
   "outputs": [],
   "source": [
    "def preprocess_data(data):\n",
    "\n",
    "    # Scale the rate column\n",
    "    clean_data = scale_to_zero_mean_and_unit_variance(data[:,0])\n",
    "    \n",
    "    # One-hot-encode the location column\n",
    "    location_column_clean = one_hot_encoding_of_column(data[:,1])\n",
    "    clean_data = np.append(clean_data, location_column_clean, axis=1)\n",
    "    \n",
    "    # Encode rest-type column using multi label binarizer\n",
    "    rest_type_column_clean = multi_label_binarize_column(data[:,2])\n",
    "    clean_data = np.append(clean_data, rest_type_column_clean, axis=1)\n",
    "    \n",
    "    # Encode cuisines column using multi label binarizer\n",
    "    cuisines_column_clean = multi_label_binarize_column(data[:,3])\n",
    "    clean_data = np.append(clean_data, cuisines_column_clean, axis=1)   \n",
    "    \n",
    "    return clean_data"
   ]
  },
  {
   "cell_type": "markdown",
   "metadata": {},
   "source": [
    "## 1. Introduction\n",
    "\n",
    "a."
   ]
  },
  {
   "cell_type": "markdown",
   "metadata": {},
   "source": [
    "## 2. Data pre-processing"
   ]
  },
  {
   "cell_type": "code",
   "execution_count": 8,
   "metadata": {},
   "outputs": [
    {
     "name": "stdout",
     "output_type": "stream",
     "text": [
      "(51717, 17)\n",
      "(51717, 10)\n",
      "Index(['address', 'name', 'online_order', 'book_table', 'rate', 'location',\n",
      "       'rest_type', 'cuisines', 'approx_cost(for two people)',\n",
      "       'listed_in(type)'],\n",
      "      dtype='object')\n"
     ]
    }
   ],
   "source": [
    "# Load the data\n",
    "df = pd.read_csv('zomato.csv')\n",
    "\n",
    "# Read test dataset from file and name the columns\n",
    "# df_test = pd.read_csv('dataset1_test.csv', header=None)\n",
    "# df_test.columns = [\"age\", \"workclass\", \"fnlwgt\", \"education\", \"education-num\", \"marital-status\", \"occupation\", \"relationship\", \"race\", \"sex\", \"capital-gain\", \"capital-loss\", \"hours-per-week\", \"native-country\"]\n",
    "\n",
    "# Drop rows from train and test which are Nan (i.e remove dirty data)\n",
    "# df = df.dropna()\n",
    "# df_test.dropna()\n",
    "print(df.shape)\n",
    "df = df.drop(columns=['url','phone','reviews_list','menu_item','listed_in(city)', 'votes', 'dish_liked'])\n",
    "print(df.shape)\n",
    "print(df.columns)\n",
    "# fig, ax = plt.subplots()\n",
    "# print(df['location'].value_counts().plot(ax=ax, kind='bar'))\n",
    "# df['location'].value_counts().plot(ax=ax, kind='bar')\n",
    "\n",
    "\n",
    "# sns.set(style=\"whitegrid\")\n",
    "# ax = sns.countplot(x=\"location\", data=df)\n",
    "\n"
   ]
  },
  {
   "cell_type": "code",
   "execution_count": 9,
   "metadata": {},
   "outputs": [
    {
     "name": "stdout",
     "output_type": "stream",
     "text": [
      "(51717, 10)\n"
     ]
    }
   ],
   "source": [
    "df['rate'] = df['rate'].apply(clean_rate)\n",
    "print(df.shape)\n",
    "df.dropna(subset=['location', 'cuisines','rest_type','online_order','book_table','listed_in(type)','approx_cost(for two people)'], inplace=True)\n",
    "df['approx_cost(for two people)'] = df['approx_cost(for two people)'].apply(clean_approx_cost)\n",
    "df = df.drop_duplicates(subset=['name','address'], keep='first')"
   ]
  },
  {
   "cell_type": "code",
   "execution_count": 10,
   "metadata": {},
   "outputs": [
    {
     "name": "stdout",
     "output_type": "stream",
     "text": [
      "address                        0\n",
      "name                           0\n",
      "online_order                   0\n",
      "book_table                     0\n",
      "rate                           0\n",
      "location                       0\n",
      "rest_type                      0\n",
      "cuisines                       0\n",
      "approx_cost(for two people)    0\n",
      "listed_in(type)                0\n",
      "dtype: int64\n",
      "(12382, 10)\n"
     ]
    }
   ],
   "source": [
    "print(df.isna().sum())\n",
    "print(df.shape)"
   ]
  },
  {
   "cell_type": "code",
   "execution_count": 11,
   "metadata": {},
   "outputs": [
    {
     "name": "stdout",
     "output_type": "stream",
     "text": [
      "location    Yeshwantpur\n",
      "rate            3.92941\n",
      "dtype: object\n",
      "                                                 address  \\\n",
      "39427  Hotel Krishinton, Opposite IISC D gate. M. S. ...   \n",
      "39465  333, MSR Road, Gokul Extension, Mathikere, Yes...   \n",
      "39490  6, 1st Cross Modal Colony, Yeshwantpur, Bangalore   \n",
      "39491  40/7, Sri Sai Complex, MSRCE College Road, Mat...   \n",
      "39502  40/7/A, Sri Sai Complex MSRCE College Road, Ma...   \n",
      "39510           1st Cross, MSRE College Road, Mathikere,   \n",
      "39533  2/1, 1st Cross, 14th Main, MSR Road, Mathikere...   \n",
      "39541   369, 6th Main, 8th Cross, Yeshwantpur, Bangalore   \n",
      "39543  45/1, Below Corporation Bank, Tumkur Road, RMC...   \n",
      "39562  HMT Main Road ,Near HDFC Bank, Mathikere, Yesh...   \n",
      "39566  26/1, Triveni Road, Mathikere Extension, Mathi...   \n",
      "39574  3, YMS Complex, Opposite Ramaiah College, Math...   \n",
      "39578  HMT Main Road, Near HDFC Bank, Mathikere, Yesh...   \n",
      "39590  Level-2, Vaishnavi Sapphire Centre, Tumkur Roa...   \n",
      "39594           2,1st Cross, MSR College Road, Mathikere   \n",
      "39601  1052/20, Triveni Road, Gokul, Near Ramaiah Bus...   \n",
      "39611  AK Colony, Mathikere Extension, Mathikere, Ben...   \n",
      "39635  4/3, 12th Main, 4th Cross, M.S. Ramaiah Colleg...   \n",
      "39637   TK Complex, Triveni Road, Yeshwantpur, Bangalore   \n",
      "39661  777, 7th Cross, Triveni Road, Yeshwantpur, Ban...   \n",
      "39669  1065, Triveni Road, Gokul Extention, MS Ramaia...   \n",
      "39672  Level-2, Vaishnavi Sapphire Centre, Tumkur Roa...   \n",
      "39681  2/26, 11th Main Road, 1st stage, 2nd Phase, Ma...   \n",
      "39699  363/58-3, 1st Main Road, Near Bombay Dyeing, O...   \n",
      "39707  SC Road, Opposite Yeshwantpur Circle, Yeshwant...   \n",
      "39710  LN Complex, Subedarchatram Rd, Dr.Ambedkar Nag...   \n",
      "39716  Comfort INN Insys, 46,1st Main Road, Gokula 1s...   \n",
      "39728           40, Triveni Road, Yeshwantpur, Bangalore   \n",
      "39734  Vaishnavi Sapphire Centre, Food Court, 9/36, T...   \n",
      "39737  RG Royal Convention Hall, 19/1, Old 77, Behind...   \n",
      "...                                                  ...   \n",
      "39847  4/1, 3rd Cross, Opposite NIAS Gate, MSRIT Road...   \n",
      "39857  359, 1st Cross, HMT Main Road, Gokul, 1st Stag...   \n",
      "39888  Vaishnavi Sapphire Centre, Food Court, Tumkur ...   \n",
      "39894  Vaishnavi Sapphire Centre, Food court, Tumkur ...   \n",
      "39897  64, Ground Floor, Sri Venkateshwara Complex, O...   \n",
      "39904  RG Royal Convention Hall, 19/1, Old 77, Behind...   \n",
      "39934  Near Ramaiah College Bus Stop, Mathikere, Yesh...   \n",
      "39976    7th Cross, Triveni Road, Yeshwantpur, Bangalore   \n",
      "39984    3, 1st Cross, Mathikere, Yeshwantpur, Bangalore   \n",
      "39988  Vaishnavi Sapphire Centre, Food Court, Tumkur ...   \n",
      "40075               Triveni Road, Yeshwantpur, Bangalore   \n",
      "40082  640, B Narayanaswamappa Road, Kamla Nehru. Ext...   \n",
      "40345  765, 1st Main Road, 5th Cross, Near RTO Office...   \n",
      "40353  459/64, 5th B Cross, Triveni Road, Yeshwantpur...   \n",
      "40392  Hotel Krishinton, M. S. Ramaiah Main Road, Mat...   \n",
      "40395  Shop 764/5, 1st Main Road, K.N. Extension, Yes...   \n",
      "40401  Hotel Grand Bee, 37/1, Railway Parallel Road, ...   \n",
      "40412  Hotel Grand Bee, 37/1, Railway Parallel Road, ...   \n",
      "40423  38/1, 1st Main Road, Model Colony, Yeshwantpur...   \n",
      "40436  470, 9 A Cross, Triveni Road, Yeshwantpur, Ban...   \n",
      "44036  2, 100FT Road, MK Nagar, Behind JP Park, Near ...   \n",
      "44054                Number 33, 3rd Main Road, Mathikere   \n",
      "44111  2nd Cross, MSR Back Gate, Opposite Royal Resid...   \n",
      "44202  4, Nirmala Complex, M.S.R Main Road, Mathikere...   \n",
      "44205  26/1, ADVAIT Building, 7th Cross, MSRIT Engine...   \n",
      "44298  8/1, 3rd Cross, Chikkamaranahalli, New BEL Roa...   \n",
      "44328             Pipleline Road, Yeshwantpur, Bangalore   \n",
      "44352  401, 7th Cross, 6th Main Road, Mathikere, Yesh...   \n",
      "44663  5, HMT Main Road, Opposite Muneshwara Temple, ...   \n",
      "44685  6th Main Rd, M S R Nagar, Mathikere, Yeshwantp...   \n",
      "\n",
      "                                 name online_order book_table  rate  \\\n",
      "39427                     Chef's Bank          Yes         No   3.4   \n",
      "39465              New Agarwal Bhavan          Yes         No   4.1   \n",
      "39490                    Fishing Boat          Yes         No   4.0   \n",
      "39491             Zam Zam Kabab House          Yes         No   3.4   \n",
      "39502                       Tasty Box          Yes         No   2.9   \n",
      "39510                     Snack Magic          Yes         No   3.7   \n",
      "39533              Calicut Restaurant          Yes         No   3.9   \n",
      "39541              New Golden Emperor          Yes         No   3.7   \n",
      "39543                     Hotel Elite          Yes         No   3.7   \n",
      "39562              Sagar Kabab Corner          Yes         No   3.2   \n",
      "39566                Bhavani Vada Pav          Yes         No   4.0   \n",
      "39574                    Cake Gallery          Yes         No   3.6   \n",
      "39578               Hotel Gowdru Mane          Yes         No   3.1   \n",
      "39590                    Dambal's Veg          Yes         No   3.2   \n",
      "39594               Kerala Restaurant           No         No   3.5   \n",
      "39601      Thanco's Natural Ice Cream          Yes         No   3.8   \n",
      "39611                         Casamia          Yes         No   3.6   \n",
      "39635               Biriyani Paradise          Yes         No   3.3   \n",
      "39637                      Alif Hotel          Yes         No   0.0   \n",
      "39661     Ambur Darbar Biriyani Point          Yes         No   3.2   \n",
      "39669                     Fish Corner          Yes         No   3.7   \n",
      "39672                      Saladtimes          Yes         No   3.8   \n",
      "39681                     Ootada Mane          Yes         No   2.9   \n",
      "39699                    Sha-e-Darbar          Yes         No   3.7   \n",
      "39707                 Karavali Deluxe          Yes         No   3.6   \n",
      "39710             New Sagar Fast food          Yes         No   3.4   \n",
      "39716               The Crust Factory          Yes         No   3.5   \n",
      "39728         New Karavali Restaurant          Yes         No   3.3   \n",
      "39734                    Chaat Lounge          Yes         No   3.0   \n",
      "39737                B52 - Sports Bar          Yes        Yes   3.5   \n",
      "...                               ...          ...        ...   ...   \n",
      "39847                    A1 Spice Inn           No         No   3.5   \n",
      "39857                        Pavilion          Yes         No   3.7   \n",
      "39888                           Nagas          Yes         No   3.3   \n",
      "39894                  Fujian Express          Yes         No   3.3   \n",
      "39897     Chikpet Donne Biryani House          Yes         No   3.6   \n",
      "39904               Seafood Dot Grill          Yes         No   3.9   \n",
      "39934                    Udupi Garden           No         No   3.0   \n",
      "39976             Biryani Food Corner           No         No   0.0   \n",
      "39984                        Tuckinto          Yes         No   3.8   \n",
      "39988              The Duke Of Juices          Yes         No   3.3   \n",
      "40075    Jay Mataji Farsan and Sweets           No         No   3.5   \n",
      "40082               The Cupcake Story           No         No   3.5   \n",
      "40345               Priyadarshini Veg           No         No   3.9   \n",
      "40353             Aastha Bengali Mess          Yes         No   3.9   \n",
      "40392                     Opel Lounge           No         No   3.2   \n",
      "40395           Davanagere Benne Dosa           No         No   3.3   \n",
      "40401                         Madhura           No         No   3.7   \n",
      "40412                       Makaranda           No         No   3.5   \n",
      "40423                     Kerala Food           No         No   0.0   \n",
      "40436             Goli Vada Pav No. 1           No         No   3.3   \n",
      "44036                     Food Lounge          Yes         No   3.1   \n",
      "44054      PRS Indian Food Restaurant          Yes         No   2.9   \n",
      "44111                      Burger Man          Yes         No   3.4   \n",
      "44202  Delight Fast Food & Restaurant          Yes         No   2.8   \n",
      "44205          Anda Special-Pav Bhaji          Yes         No   3.4   \n",
      "44298        Om Sai Ram Food Junction           No         No   3.7   \n",
      "44328                     Royal Beans           No         No   3.8   \n",
      "44352               Ruchi Curry Point           No         No   0.0   \n",
      "44663                     Shree Sagar           No         No   2.9   \n",
      "44685                   Malabar Treat           No         No   0.0   \n",
      "\n",
      "          location                  rest_type  \\\n",
      "39427  Yeshwantpur              Casual Dining   \n",
      "39465  Yeshwantpur    Quick Bites, Sweet Shop   \n",
      "39490  Yeshwantpur                Quick Bites   \n",
      "39491  Yeshwantpur                Quick Bites   \n",
      "39502  Yeshwantpur                Quick Bites   \n",
      "39510  Yeshwantpur                Quick Bites   \n",
      "39533  Yeshwantpur              Casual Dining   \n",
      "39541  Yeshwantpur                Quick Bites   \n",
      "39543  Yeshwantpur              Casual Dining   \n",
      "39562  Yeshwantpur                Quick Bites   \n",
      "39566  Yeshwantpur                Quick Bites   \n",
      "39574  Yeshwantpur                     Bakery   \n",
      "39578  Yeshwantpur                Quick Bites   \n",
      "39590  Yeshwantpur                Quick Bites   \n",
      "39594  Yeshwantpur                Quick Bites   \n",
      "39601  Yeshwantpur             Dessert Parlor   \n",
      "39611  Yeshwantpur                Quick Bites   \n",
      "39635  Yeshwantpur                Quick Bites   \n",
      "39637  Yeshwantpur                Quick Bites   \n",
      "39661  Yeshwantpur                Quick Bites   \n",
      "39669  Yeshwantpur                Quick Bites   \n",
      "39672  Yeshwantpur                Quick Bites   \n",
      "39681  Yeshwantpur              Casual Dining   \n",
      "39699  Yeshwantpur                Quick Bites   \n",
      "39707  Yeshwantpur                Quick Bites   \n",
      "39710  Yeshwantpur                Quick Bites   \n",
      "39716  Yeshwantpur               Bakery, Cafe   \n",
      "39728  Yeshwantpur              Casual Dining   \n",
      "39734  Yeshwantpur    Food Court, Quick Bites   \n",
      "39737  Yeshwantpur                        Bar   \n",
      "...            ...                        ...   \n",
      "39847  Yeshwantpur              Casual Dining   \n",
      "39857  Yeshwantpur              Casual Dining   \n",
      "39888  Yeshwantpur                 Food Court   \n",
      "39894  Yeshwantpur                 Food Court   \n",
      "39897  Yeshwantpur                Quick Bites   \n",
      "39904  Yeshwantpur         Casual Dining, Bar   \n",
      "39934  Yeshwantpur                Quick Bites   \n",
      "39976  Yeshwantpur                Quick Bites   \n",
      "39984  Yeshwantpur                       Cafe   \n",
      "39988  Yeshwantpur  Food Court, Beverage Shop   \n",
      "40075  Yeshwantpur                 Sweet Shop   \n",
      "40082  Yeshwantpur                     Bakery   \n",
      "40345  Yeshwantpur                Quick Bites   \n",
      "40353  Yeshwantpur                Quick Bites   \n",
      "40392  Yeshwantpur                        Bar   \n",
      "40395  Yeshwantpur                Quick Bites   \n",
      "40401  Yeshwantpur              Casual Dining   \n",
      "40412  Yeshwantpur              Casual Dining   \n",
      "40423  Yeshwantpur                Quick Bites   \n",
      "40436  Yeshwantpur                Quick Bites   \n",
      "44036  Yeshwantpur                Quick Bites   \n",
      "44054  Yeshwantpur                Quick Bites   \n",
      "44111  Yeshwantpur                Quick Bites   \n",
      "44202  Yeshwantpur              Casual Dining   \n",
      "44205  Yeshwantpur                Quick Bites   \n",
      "44298  Yeshwantpur                Quick Bites   \n",
      "44328  Yeshwantpur                   Delivery   \n",
      "44352  Yeshwantpur                Quick Bites   \n",
      "44663  Yeshwantpur              Casual Dining   \n",
      "44685  Yeshwantpur                Quick Bites   \n",
      "\n",
      "                                                cuisines  \\\n",
      "39427                              North Indian, Chinese   \n",
      "39465         North Indian, Chinese, Street Food, Mithai   \n",
      "39490                      Kerala, South Indian, Chinese   \n",
      "39491                              North Indian, Chinese   \n",
      "39502  North Indian, South Indian, Arabian, Mughlai, ...   \n",
      "39510                               Fast Food, Beverages   \n",
      "39533        Kerala, South Indian, North Indian, Chinese   \n",
      "39541                   North Indian, Chinese, Fast Food   \n",
      "39543        North Indian, Chinese, South Indian, Juices   \n",
      "39562                     North Indian, Chinese, Biryani   \n",
      "39566                                          Fast Food   \n",
      "39574                                             Bakery   \n",
      "39578                              South Indian, Biryani   \n",
      "39590                                       South Indian   \n",
      "39594                                    Biryani, Kerala   \n",
      "39601                                Ice Cream, Desserts   \n",
      "39611                       Andhra, Kerala, South Indian   \n",
      "39635           Kerala, Biryani, North Indian, Chettinad   \n",
      "39637                     North Indian, Chinese, Mughlai   \n",
      "39661                                            Biryani   \n",
      "39669                     North Indian, Chinese, Seafood   \n",
      "39672                            Healthy Food, Fast Food   \n",
      "39681                South Indian, North Indian, Chinese   \n",
      "39699                              North Indian, Chinese   \n",
      "39707                              North Indian, Chinese   \n",
      "39710                South Indian, North Indian, Chinese   \n",
      "39716                             Bakery, Cafe, Desserts   \n",
      "39728                 North Indian, Seafood, Mangalorean   \n",
      "39734                          North Indian, Street Food   \n",
      "39737        Continental, American, Chinese, Finger Food   \n",
      "...                                                  ...   \n",
      "39847  Biryani, Chinese, Hyderabadi, North Indian, So...   \n",
      "39857                              North Indian, Chinese   \n",
      "39888                   Andhra, South Indian, Hyderabadi   \n",
      "39894                               Thai, Chinese, Momos   \n",
      "39897                                            Biryani   \n",
      "39904                 Seafood, North Indian, Mangalorean   \n",
      "39934   North Indian, Chinese, South Indian, Street Food   \n",
      "39976     North Indian, Chinese, Mughlai, Biryani, Kebab   \n",
      "39984                                               Cafe   \n",
      "39988                                          Beverages   \n",
      "40075                                   Mithai, Gujarati   \n",
      "40082                                             Bakery   \n",
      "40345                North Indian, South Indian, Chinese   \n",
      "40353                                   Chinese, Bengali   \n",
      "40392                 Finger Food, Chinese, North Indian   \n",
      "40395                                       South Indian   \n",
      "40401                              North Indian, Chinese   \n",
      "40412       North Indian, Chinese, South Indian, Mughlai   \n",
      "40423                               Kerala, South Indian   \n",
      "40436                                        Street Food   \n",
      "44036                                       North Indian   \n",
      "44054                Chinese, North Indian, South Indian   \n",
      "44111                                  Burger, Fast Food   \n",
      "44202                              North Indian, Chinese   \n",
      "44205                                          Fast Food   \n",
      "44298                                       North Indian   \n",
      "44328                                           Desserts   \n",
      "44352                              Biryani, North Indian   \n",
      "44663                South Indian, North Indian, Chinese   \n",
      "44685       North Indian, Arabian, South Indian, Chinese   \n",
      "\n",
      "       approx_cost(for two people) listed_in(type)  \n",
      "39427                          700          Buffet  \n",
      "39465                          400        Delivery  \n",
      "39490                          300        Delivery  \n",
      "39491                          300        Delivery  \n",
      "39502                          250        Delivery  \n",
      "39510                          250        Delivery  \n",
      "39533                          450        Delivery  \n",
      "39541                          400        Delivery  \n",
      "39543                          550        Delivery  \n",
      "39562                          350        Delivery  \n",
      "39566                          150        Delivery  \n",
      "39574                          300        Delivery  \n",
      "39578                          400        Delivery  \n",
      "39590                          250        Delivery  \n",
      "39594                          150        Delivery  \n",
      "39601                          450        Delivery  \n",
      "39611                          400        Delivery  \n",
      "39635                          450        Delivery  \n",
      "39637                          400        Delivery  \n",
      "39661                          200        Delivery  \n",
      "39669                          400        Delivery  \n",
      "39672                          500        Delivery  \n",
      "39681                          600        Delivery  \n",
      "39699                          400        Delivery  \n",
      "39707                          450        Delivery  \n",
      "39710                          250        Delivery  \n",
      "39716                          400        Delivery  \n",
      "39728                          450        Delivery  \n",
      "39734                          300        Delivery  \n",
      "39737                         1200        Delivery  \n",
      "...                            ...             ...  \n",
      "39847                          500        Delivery  \n",
      "39857                          700        Delivery  \n",
      "39888                          500        Delivery  \n",
      "39894                          600        Delivery  \n",
      "39897                          350        Delivery  \n",
      "39904                         1200        Delivery  \n",
      "39934                          300        Delivery  \n",
      "39976                          400        Delivery  \n",
      "39984                          400        Delivery  \n",
      "39988                          200        Delivery  \n",
      "40075                          150        Desserts  \n",
      "40082                          300        Desserts  \n",
      "40345                          300        Dine-out  \n",
      "40353                          250        Dine-out  \n",
      "40392                          700        Dine-out  \n",
      "40395                          100        Dine-out  \n",
      "40401                          750        Dine-out  \n",
      "40412                          750        Dine-out  \n",
      "40423                          300        Dine-out  \n",
      "40436                          200        Dine-out  \n",
      "44036                          400        Delivery  \n",
      "44054                          200        Delivery  \n",
      "44111                          300        Delivery  \n",
      "44202                          550        Delivery  \n",
      "44205                          200        Delivery  \n",
      "44298                          200        Delivery  \n",
      "44328                          400        Delivery  \n",
      "44352                          400        Delivery  \n",
      "44663                          450        Dine-out  \n",
      "44685                          500        Dine-out  \n",
      "\n",
      "[69 rows x 10 columns]\n"
     ]
    }
   ],
   "source": [
    "df_grouped_locations=df.groupby(['location'], as_index=False)['rate'].mean().max() # Get the location with the maximum rating\n",
    "print(df_grouped_locations)\n",
    "print(df.loc[df['location'] == 'Yeshwantpur'])"
   ]
  },
  {
   "cell_type": "code",
   "execution_count": 12,
   "metadata": {},
   "outputs": [
    {
     "data": {
      "text/plain": [
       "array([[4.1, 'Banashankari', 'Casual Dining',\n",
       "        'North Indian, Mughlai, Chinese'],\n",
       "       [4.1, 'Banashankari', 'Casual Dining',\n",
       "        'Chinese, North Indian, Thai'],\n",
       "       [3.8, 'Banashankari', 'Cafe, Casual Dining',\n",
       "        'Cafe, Mexican, Italian'],\n",
       "       ...,\n",
       "       [3.3, 'KR Puram', 'Quick Bites', 'North Indian, Kerala, Chinese'],\n",
       "       [2.5, 'Whitefield', 'Casual Dining, Bar',\n",
       "        'Andhra, South Indian, Chinese, North Indian'],\n",
       "       [0.0, 'Whitefield', 'Bar', 'Finger Food']], dtype=object)"
      ]
     },
     "execution_count": 12,
     "metadata": {},
     "output_type": "execute_result"
    }
   ],
   "source": [
    "df_labels = df.drop(columns=['address','name','online_order','book_table','rate', 'location','rest_type','cuisines','listed_in(type)'])\n",
    "df_data = df.drop(columns=['approx_cost(for two people)','address','online_order','book_table','listed_in(type)','name'])\n",
    "df_data.to_csv('out_train.csv', encoding='utf-8', index=False)\n",
    "data_raw = df_data.as_matrix()\n",
    "labels_raw = df_labels.as_matrix()\n",
    "data_raw"
   ]
  },
  {
   "cell_type": "code",
   "execution_count": 13,
   "metadata": {},
   "outputs": [],
   "source": [
    "data = preprocess_data(data_raw)"
   ]
  },
  {
   "cell_type": "code",
   "execution_count": 14,
   "metadata": {},
   "outputs": [
    {
     "data": {
      "text/plain": [
       "(12382, 181)"
      ]
     },
     "execution_count": 14,
     "metadata": {},
     "output_type": "execute_result"
    }
   ],
   "source": [
    "data.shape"
   ]
  },
  {
   "cell_type": "code",
   "execution_count": 15,
   "metadata": {},
   "outputs": [
    {
     "data": {
      "text/plain": [
       "array([0.46719785, 0.22427555, 0.10773347, 0.31303146, 0.27331554,\n",
       "       0.21734909, 0.18838679, 0.25329548])"
      ]
     },
     "execution_count": 15,
     "metadata": {},
     "output_type": "execute_result"
    }
   ],
   "source": [
    "clf = SVR(gamma='scale', C=1.0, epsilon=0.2)\n",
    "scores = cross_val_score(clf, data, labels_raw, cv=8)\n",
    "scores"
   ]
  },
  {
   "cell_type": "code",
   "execution_count": 16,
   "metadata": {},
   "outputs": [
    {
     "data": {
      "text/plain": [
       "array([0.60493996, 0.47735481, 0.37621057, 0.54512807, 0.52298868,\n",
       "       0.46700712, 0.41331197, 0.4912198 ])"
      ]
     },
     "execution_count": 16,
     "metadata": {},
     "output_type": "execute_result"
    }
   ],
   "source": [
    "mlp_reg = MLPRegressor(activation='logistic')\n",
    "scores = cross_val_score(mlp_reg, data, labels_raw, cv=8)\n",
    "scores"
   ]
  },
  {
   "cell_type": "code",
   "execution_count": 17,
   "metadata": {},
   "outputs": [
    {
     "name": "stdout",
     "output_type": "stream",
     "text": [
      "Dimensions of training data: (9905, 181)\n",
      "Dimensions of validation data: (2477, 181)\n"
     ]
    }
   ],
   "source": [
    "# Split the train data into train and validation \n",
    "X_train, X_validation, y_train, y_validation = train_test_split(data, labels_raw, test_size=0.20, random_state=42)\n",
    "print(f\"Dimensions of training data: {X_train.shape}\")\n",
    "print(f\"Dimensions of validation data: {X_validation.shape}\")"
   ]
  },
  {
   "cell_type": "code",
   "execution_count": 18,
   "metadata": {},
   "outputs": [
    {
     "data": {
      "text/plain": [
       "array([0.21218243, 0.17919667, 0.22255235, 0.20012165, 0.25411509,\n",
       "       0.25703078, 0.18684699, 0.2725887 ])"
      ]
     },
     "execution_count": 18,
     "metadata": {},
     "output_type": "execute_result"
    }
   ],
   "source": [
    "clf = SVR(gamma='scale', C=1.0, epsilon=0.2)\n",
    "train_scores = cross_val_score(clf, X_train, y_train, cv=8)\n",
    "train_scores"
   ]
  },
  {
   "cell_type": "code",
   "execution_count": 19,
   "metadata": {},
   "outputs": [
    {
     "data": {
      "text/plain": [
       "array([0.07509616, 0.11273006, 0.1701913 , 0.06585766, 0.10294073,\n",
       "       0.05409279, 0.05238615, 0.09149799])"
      ]
     },
     "execution_count": 19,
     "metadata": {},
     "output_type": "execute_result"
    }
   ],
   "source": [
    "clf = SVR(gamma='scale', C=1.0, epsilon=0.2)\n",
    "val_scores = cross_val_score(clf, X_validation, y_validation, cv=8)\n",
    "val_scores"
   ]
  },
  {
   "cell_type": "code",
   "execution_count": 20,
   "metadata": {},
   "outputs": [
    {
     "data": {
      "image/png": "[encoded data removed]",
      "text/plain": [
       "<Figure size 432x288 with 1 Axes>"
      ]
     },
     "metadata": {
      "needs_background": "light"
     },
     "output_type": "display_data"
    }
   ],
   "source": [
    "plt.plot(train_scores, 'r')\n",
    "plt.plot(val_scores, 'c')\n",
    "plt.show()"
   ]
  }
 ],
 "metadata": {
  "kernelspec": {
   "display_name": "Python 3",
   "language": "python",
   "name": "python3"
  },
  "language_info": {
   "codemirror_mode": {
    "name": "ipython",
    "version": 3
   },
   "file_extension": ".py",
   "mimetype": "text/x-python",
   "name": "python",
   "nbconvert_exporter": "python",
   "pygments_lexer": "ipython3",
   "version": "3.7.3"
  }
 },
 "nbformat": 4,
 "nbformat_minor": 2
}
